{
 "cells": [
  {
   "cell_type": "markdown",
   "id": "0bfb67e2",
   "metadata": {},
   "source": [
    "## 1. Import & Setup"
   ]
  },
  {
   "cell_type": "code",
   "execution_count": 1,
   "id": "f1dec62d",
   "metadata": {},
   "outputs": [
    {
     "name": "stdout",
     "output_type": "stream",
     "text": [
      "NumPy version: 2.1.1\n"
     ]
    }
   ],
   "source": [
    "import numpy as np\n",
    "\n",
    "# Set random seed untuk konsistensi\n",
    "np.random.seed(42)\n",
    "\n",
    "# Pastikan versi NumPy\n",
    "print(\"NumPy version:\", np.__version__)"
   ]
  },
  {
   "cell_type": "markdown",
   "id": "ecf4f947",
   "metadata": {},
   "source": [
    "## 2. Helper Functions (Softmax, Layer Norm, & Causal Mask)"
   ]
  },
  {
   "cell_type": "code",
   "execution_count": 2,
   "id": "eda75c0b",
   "metadata": {},
   "outputs": [],
   "source": [
    "def softmax(x, axis=-1):\n",
    "    \"\"\"\n",
    "    Softmax numerically stable version.\n",
    "    Args:\n",
    "        x: array (batch, seq_len, dim)\n",
    "        axis: axis to apply softmax\n",
    "    Returns:\n",
    "        array softmax dengan dimensi sama\n",
    "    \"\"\"\n",
    "    x_shifted = x - np.max(x, axis=axis, keepdims=True)\n",
    "    exp_x = np.exp(x_shifted)\n",
    "    return exp_x / np.sum(exp_x, axis=axis, keepdims=True)\n",
    "\n",
    "\n",
    "def layer_norm(x, eps=1e-6):\n",
    "    \"\"\"\n",
    "    Layer Normalization (tanpa parameter learnable, versi sederhana)\n",
    "    Args:\n",
    "        x: input tensor (batch, seq_len, d_model)\n",
    "    Returns:\n",
    "        normalized tensor\n",
    "    \"\"\"\n",
    "    mean = np.mean(x, axis=-1, keepdims=True)\n",
    "    std = np.std(x, axis=-1, keepdims=True)\n",
    "    return (x - mean) / (std + eps)\n",
    "\n",
    "\n",
    "def causal_mask(seq_len):\n",
    "    \"\"\"\n",
    "    Membuat causal mask (lower-triangular) untuk mencegah akses token masa depan.\n",
    "    Args:\n",
    "        seq_len: panjang sequence\n",
    "    Returns:\n",
    "        mask dengan shape (1, seq_len, seq_len)\n",
    "        True di posisi yang DIBLOK (masa depan)\n",
    "    \"\"\"\n",
    "    mask = np.triu(np.ones((1, seq_len, seq_len)), k=1).astype(bool)\n",
    "    return mask"
   ]
  },
  {
   "cell_type": "code",
   "execution_count": 3,
   "id": "4243d28b",
   "metadata": {},
   "outputs": [
    {
     "name": "stdout",
     "output_type": "stream",
     "text": [
      "Softmax test: [[0.09003057 0.24472847 0.66524096]]\n",
      "Layer norm test: [[-1.22474337  0.          1.22474337]]\n",
      "Causal mask(5):\n",
      " [[[0 1 1 1 1]\n",
      "  [0 0 1 1 1]\n",
      "  [0 0 0 1 1]\n",
      "  [0 0 0 0 1]\n",
      "  [0 0 0 0 0]]]\n"
     ]
    }
   ],
   "source": [
    "# Tes Helper Functions\n",
    "if __name__ == \"__main__\":\n",
    "    test = np.array([[1.0, 2.0, 3.0]])\n",
    "    print(\"Softmax test:\", softmax(test))\n",
    "    print(\"Layer norm test:\", layer_norm(test))\n",
    "    print(\"Causal mask(5):\\n\", causal_mask(5).astype(int))"
   ]
  },
  {
   "cell_type": "markdown",
   "id": "a49c31ea",
   "metadata": {},
   "source": [
    "## 3. Token Embedding & Positional Encoding Sinusoidal"
   ]
  },
  {
   "cell_type": "code",
   "execution_count": 4,
   "id": "b2a9c34c",
   "metadata": {},
   "outputs": [],
   "source": [
    "class TokenEmbedding:\n",
    "    def __init__(self, vocab_size, d_model):\n",
    "        \"\"\"\n",
    "        Membuat embedding matrix ukuran [vocab_size, d_model]\n",
    "        \"\"\"\n",
    "        self.vocab_size = vocab_size\n",
    "        self.d_model = d_model\n",
    "        # Inisialisasi nilai acak kecil\n",
    "        self.embeddings = np.random.randn(vocab_size, d_model) / np.sqrt(d_model)\n",
    "    \n",
    "    def forward(self, x):\n",
    "        \"\"\"\n",
    "        Args:\n",
    "            x: array of token IDs, shape (batch, seq_len)\n",
    "        Returns:\n",
    "            embedded tokens, shape (batch, seq_len, d_model)\n",
    "        \"\"\"\n",
    "        return self.embeddings[x]\n",
    "\n",
    "\n",
    "class PositionalEncoding:\n",
    "    def __init__(self, d_model, max_len=5000):\n",
    "        \"\"\"\n",
    "        Sinusoidal positional encoding\n",
    "        \"\"\"\n",
    "        self.d_model = d_model\n",
    "        self.max_len = max_len\n",
    "        self.encoding = self._build_encoding()\n",
    "    \n",
    "    def _build_encoding(self):\n",
    "        position = np.arange(self.max_len)[:, np.newaxis]       # (max_len, 1)\n",
    "        div_term = np.exp(np.arange(0, self.d_model, 2) * -(np.log(10000.0) / self.d_model))\n",
    "        \n",
    "        pe = np.zeros((self.max_len, self.d_model))\n",
    "        pe[:, 0::2] = np.sin(position * div_term)\n",
    "        pe[:, 1::2] = np.cos(position * div_term)\n",
    "        \n",
    "        return pe[np.newaxis, :, :]  # (1, max_len, d_model)\n",
    "    \n",
    "    def forward(self, x):\n",
    "        \"\"\"\n",
    "        Args:\n",
    "            x: tensor dengan shape (batch, seq_len, d_model)\n",
    "        Returns:\n",
    "            tensor dengan positional encoding ditambahkan\n",
    "        \"\"\"\n",
    "        seq_len = x.shape[1]\n",
    "        return x + self.encoding[:, :seq_len, :]"
   ]
  },
  {
   "cell_type": "code",
   "execution_count": 5,
   "id": "bc4446b7",
   "metadata": {},
   "outputs": [
    {
     "name": "stdout",
     "output_type": "stream",
     "text": [
      "Input token IDs:\n",
      " [[102 435 860 270 106  71 700  20]\n",
      " [614 121 466 214 330 458  87 372]]\n",
      "Embedding output shape: (2, 8, 16)\n",
      "Contoh nilai pertama:\n",
      " [ 0.51563123  0.73311677  0.00605486  1.35305514 -0.01991035]\n"
     ]
    }
   ],
   "source": [
    "# Tes Token Embedding dan Positional Encoding Sinusoidal\n",
    "if __name__ == \"__main__\":\n",
    "    vocab_size = 1000\n",
    "    d_model = 16\n",
    "    seq_len = 8\n",
    "    batch = 2\n",
    "    \n",
    "    tokens = np.random.randint(0, vocab_size, (batch, seq_len))\n",
    "    \n",
    "    embed = TokenEmbedding(vocab_size, d_model)\n",
    "    pos_enc = PositionalEncoding(d_model)\n",
    "    \n",
    "    x = embed.forward(tokens)\n",
    "    x = pos_enc.forward(x)\n",
    "    \n",
    "    print(\"Input token IDs:\\n\", tokens)\n",
    "    print(\"Embedding output shape:\", x.shape)\n",
    "    print(\"Contoh nilai pertama:\\n\", x[0, 0, :5])"
   ]
  },
  {
   "cell_type": "markdown",
   "id": "315457c0",
   "metadata": {},
   "source": [
    "## 4. Scaled Dot-Product Attention & Causal Masking"
   ]
  },
  {
   "cell_type": "code",
   "execution_count": 6,
   "id": "2ca350a9",
   "metadata": {},
   "outputs": [],
   "source": [
    "def scaled_dot_product_attention(Q, K, V, mask=None):\n",
    "    \"\"\"\n",
    "    Menghitung Scaled Dot-Product Attention.\n",
    "    \n",
    "    Args:\n",
    "        d_k: Dimensi dari K dan Q\n",
    "        Q: Query tensor, shape (batch, heads, seq_len, d_k)\n",
    "        K: Key tensor, shape (batch, heads, seq_len, d_k)\n",
    "        V: Value tensor, shape (batch, heads, seq_len, d_v)\n",
    "        mask: Optional, boolean mask (True untuk posisi yang harus diblok)\n",
    "              shape (1, 1, seq_len, seq_len)\n",
    "    \n",
    "    Returns:\n",
    "        output: Weighted sum of V, shape (batch, heads, seq_len, d_v)\n",
    "        attention_weights: Softmax attention weights, shape (batch, heads, seq_len, seq_len)\n",
    "    \"\"\"\n",
    "    d_k = Q.shape[-1]\n",
    "    \n",
    "    # (batch, heads, seq_len, seq_len)\n",
    "    scores = np.matmul(Q, K.transpose(0, 1, 3, 2)) / np.sqrt(d_k)\n",
    "    \n",
    "    if mask is not None:\n",
    "        # Masking posisi masa depan (set nilai sangat kecil)\n",
    "        scores = np.where(mask, -1e9, scores)\n",
    "    \n",
    "    attention_weights = softmax(scores, axis=-1)\n",
    "    output = np.matmul(attention_weights, V)\n",
    "    \n",
    "    return output, attention_weights"
   ]
  },
  {
   "cell_type": "code",
   "execution_count": 7,
   "id": "38a67af6",
   "metadata": {},
   "outputs": [
    {
     "name": "stdout",
     "output_type": "stream",
     "text": [
      "Output shape: (1, 1, 4, 8)\n",
      "Attention weights shape: (1, 1, 4, 4)\n",
      "Attention matrix:\n",
      " [[1.    0.    0.    0.   ]\n",
      " [0.511 0.489 0.    0.   ]\n",
      " [0.248 0.149 0.603 0.   ]\n",
      " [0.32  0.074 0.286 0.319]]\n"
     ]
    }
   ],
   "source": [
    "# Tes Scaled Dot-Product Attention\n",
    "if __name__ == \"__main__\":\n",
    "    batch, heads, seq_len, d_k = 1, 1, 4, 8\n",
    "    \n",
    "    Q = np.random.randn(batch, heads, seq_len, d_k)\n",
    "    K = np.random.randn(batch, heads, seq_len, d_k)\n",
    "    V = np.random.randn(batch, heads, seq_len, d_k)\n",
    "    \n",
    "    mask = causal_mask(seq_len)[:, np.newaxis, :, :]  # (1, 1, seq_len, seq_len)\n",
    "    \n",
    "    out, attn = scaled_dot_product_attention(Q, K, V, mask)\n",
    "    print(\"Output shape:\", out.shape)\n",
    "    print(\"Attention weights shape:\", attn.shape)\n",
    "    print(\"Attention matrix:\\n\", np.round(attn[0, 0], 3))"
   ]
  },
  {
   "cell_type": "markdown",
   "id": "5c8e2193",
   "metadata": {},
   "source": [
    "## 5. Multi-Head Attention"
   ]
  },
  {
   "cell_type": "code",
   "execution_count": 8,
   "id": "3587845a",
   "metadata": {},
   "outputs": [],
   "source": [
    "class MultiHeadAttention:\n",
    "    def __init__(self, d_model, num_heads):\n",
    "        \"\"\"\n",
    "        Multi-Head Attention sederhana (tanpa dropout).\n",
    "        Args:\n",
    "            d_model: dimensi model (misalnya 64, 128, dst)\n",
    "            num_heads: jumlah head attention\n",
    "        \"\"\"\n",
    "        assert d_model % num_heads == 0, \"d_model harus habis dibagi num_heads\"\n",
    "        \n",
    "        self.d_model = d_model\n",
    "        self.num_heads = num_heads\n",
    "        self.d_k = d_model // num_heads  # dimensi per head\n",
    "        \n",
    "        # Bobot linear untuk Q, K, V, dan output (Wq, Wk, Wv, Wo)\n",
    "        self.W_Q = np.random.randn(d_model, d_model) / np.sqrt(d_model)\n",
    "        self.W_K = np.random.randn(d_model, d_model) / np.sqrt(d_model)\n",
    "        self.W_V = np.random.randn(d_model, d_model) / np.sqrt(d_model)\n",
    "        self.W_O = np.random.randn(d_model, d_model) / np.sqrt(d_model)\n",
    "    \n",
    "    def split_heads(self, x):\n",
    "        \"\"\"\n",
    "        Membagi tensor menjadi beberapa head.\n",
    "        Input: (batch, seq_len, d_model)\n",
    "        Output: (batch, num_heads, seq_len, d_k)\n",
    "        \"\"\"\n",
    "        batch_size, seq_len, _ = x.shape\n",
    "        x = x.reshape(batch_size, seq_len, self.num_heads, self.d_k)\n",
    "        return x.transpose(0, 2, 1, 3)\n",
    "    \n",
    "    def combine_heads(self, x):\n",
    "        \"\"\"\n",
    "        Menggabungkan kembali head menjadi satu tensor.\n",
    "        Input: (batch, num_heads, seq_len, d_k)\n",
    "        Output: (batch, seq_len, d_model)\n",
    "        \"\"\"\n",
    "        batch_size, num_heads, seq_len, d_k = x.shape\n",
    "        x = x.transpose(0, 2, 1, 3).reshape(batch_size, seq_len, self.d_model)\n",
    "        return x\n",
    "    \n",
    "    def forward(self, x, mask=None):\n",
    "        \"\"\"\n",
    "        Args:\n",
    "            x: input tensor (batch, seq_len, d_model)\n",
    "            mask: optional causal mask\n",
    "        Returns:\n",
    "            output: (batch, seq_len, d_model)\n",
    "            attention_weights: (batch, heads, seq_len, seq_len)\n",
    "        \"\"\"\n",
    "        # Linear projection untuk Q, K, V\n",
    "        Q = np.matmul(x, self.W_Q)\n",
    "        K = np.matmul(x, self.W_K)\n",
    "        V = np.matmul(x, self.W_V)\n",
    "        \n",
    "        # Split menjadi beberapa head\n",
    "        Q = self.split_heads(Q)\n",
    "        K = self.split_heads(K)\n",
    "        V = self.split_heads(V)\n",
    "        \n",
    "        # Scaled Dot-Product Attention\n",
    "        attn_output, attn_weights = scaled_dot_product_attention(Q, K, V, mask)\n",
    "        \n",
    "        # Gabungkan kembali semua head\n",
    "        concat_output = self.combine_heads(attn_output)\n",
    "        \n",
    "        # Linear projection akhir (W_O)\n",
    "        output = np.matmul(concat_output, self.W_O)\n",
    "        \n",
    "        return output, attn_weights"
   ]
  },
  {
   "cell_type": "code",
   "execution_count": 9,
   "id": "ca361016",
   "metadata": {},
   "outputs": [
    {
     "name": "stdout",
     "output_type": "stream",
     "text": [
      "Output shape: (2, 4, 64)\n",
      "Attention shape: (2, 4, 4, 4)\n"
     ]
    }
   ],
   "source": [
    "# Tes Multi-Head Attention\n",
    "if __name__ == \"__main__\":\n",
    "    batch, seq_len, d_model, num_heads = 2, 4, 64, 4\n",
    "    \n",
    "    x = np.random.randn(batch, seq_len, d_model)\n",
    "    mask = causal_mask(seq_len)[:, np.newaxis, :, :]  # (1, 1, seq_len, seq_len)\n",
    "    \n",
    "    mha = MultiHeadAttention(d_model, num_heads)\n",
    "    out, attn = mha.forward(x, mask)\n",
    "    \n",
    "    print(\"Output shape:\", out.shape)\n",
    "    print(\"Attention shape:\", attn.shape)"
   ]
  },
  {
   "cell_type": "markdown",
   "id": "55b6f1c0",
   "metadata": {},
   "source": [
    "## 6. Feed-Forward Network (FFN)"
   ]
  },
  {
   "cell_type": "code",
   "execution_count": 10,
   "id": "7f2f25f3",
   "metadata": {},
   "outputs": [],
   "source": [
    "class FeedForward:\n",
    "    def __init__(self, d_model, d_ff):\n",
    "        \"\"\"\n",
    "        Dua lapisan linear dengan aktivasi ReLU di tengah.\n",
    "        Args:\n",
    "            d_model: dimensi input/output\n",
    "            d_ff: dimensi hidden layer\n",
    "        \"\"\"\n",
    "        self.W1 = np.random.randn(d_model, d_ff) / np.sqrt(d_model)\n",
    "        self.b1 = np.zeros((d_ff,))\n",
    "        self.W2 = np.random.randn(d_ff, d_model) / np.sqrt(d_ff)\n",
    "        self.b2 = np.zeros((d_model,))\n",
    "    \n",
    "    def forward(self, x):\n",
    "        \"\"\"\n",
    "        Args:\n",
    "            x: (batch, seq_len, d_model)\n",
    "        Returns:\n",
    "            (batch, seq_len, d_model)\n",
    "        \"\"\"\n",
    "        # Lapisan pertama + ReLU\n",
    "        hidden = np.matmul(x, self.W1) + self.b1\n",
    "        hidden = np.maximum(0, hidden)  # ReLU\n",
    "        \n",
    "        # Lapisan kedua\n",
    "        output = np.matmul(hidden, self.W2) + self.b2\n",
    "        return output"
   ]
  },
  {
   "cell_type": "code",
   "execution_count": 11,
   "id": "40c57667",
   "metadata": {},
   "outputs": [
    {
     "name": "stdout",
     "output_type": "stream",
     "text": [
      "Input shape: (2, 5, 64)\n",
      "Output shape: (2, 5, 64)\n"
     ]
    }
   ],
   "source": [
    "# Tes Feed Forward Network (FFN)\n",
    "if __name__ == \"__main__\":\n",
    "    batch, seq_len, d_model, d_ff = 2, 5, 64, 256\n",
    "    x = np.random.randn(batch, seq_len, d_model)\n",
    "    \n",
    "    ffn = FeedForward(d_model, d_ff)\n",
    "    out = ffn.forward(x)\n",
    "    \n",
    "    print(\"Input shape:\", x.shape)\n",
    "    print(\"Output shape:\", out.shape)"
   ]
  },
  {
   "cell_type": "markdown",
   "id": "fec67292",
   "metadata": {},
   "source": [
    "## 7. Decoder Block & Residual Connection & Layer Normalization (pre-norm)"
   ]
  },
  {
   "cell_type": "code",
   "execution_count": 12,
   "id": "84366544",
   "metadata": {},
   "outputs": [],
   "source": [
    "class DecoderBlock:\n",
    "    def __init__(self, d_model, num_heads, d_ff):\n",
    "        \"\"\"\n",
    "        Satu blok decoder-only Transformer (pre-norm version).\n",
    "        Args:\n",
    "            d_model: dimensi embedding\n",
    "            num_heads: jumlah head attention\n",
    "            d_ff: dimensi hidden layer feed-forward\n",
    "        \"\"\"\n",
    "        self.mha = MultiHeadAttention(d_model, num_heads)\n",
    "        self.ffn = FeedForward(d_model, d_ff)\n",
    "    \n",
    "    def forward(self, x, mask=None):\n",
    "        \"\"\"\n",
    "        Forward pass satu blok decoder.\n",
    "        Args:\n",
    "            x: input tensor (batch, seq_len, d_model)\n",
    "            mask: causal mask (opsional)\n",
    "        Returns:\n",
    "            output tensor (batch, seq_len, d_model)\n",
    "        \"\"\"\n",
    "        # --- Multi-Head Attention ---\n",
    "        norm_x = layer_norm(x)\n",
    "        attn_output, attn_weights = self.mha.forward(norm_x, mask)\n",
    "        \n",
    "        # Residual connection\n",
    "        x = x + attn_output\n",
    "        \n",
    "        # --- Feed Forward Network ---\n",
    "        norm_x = layer_norm(x)\n",
    "        ffn_output = self.ffn.forward(norm_x)\n",
    "        \n",
    "        # Residual connection\n",
    "        x = x + ffn_output\n",
    "        \n",
    "        return x, attn_weights"
   ]
  },
  {
   "cell_type": "code",
   "execution_count": 13,
   "id": "1aa2891c",
   "metadata": {},
   "outputs": [
    {
     "name": "stdout",
     "output_type": "stream",
     "text": [
      "Output shape: (2, 5, 64)\n",
      "Attention weights shape: (2, 4, 5, 5)\n"
     ]
    }
   ],
   "source": [
    "# Tes Decoder Block\n",
    "if __name__ == \"__main__\":\n",
    "    batch, seq_len, d_model, num_heads, d_ff = 2, 5, 64, 4, 256\n",
    "    \n",
    "    x = np.random.randn(batch, seq_len, d_model)\n",
    "    mask = causal_mask(seq_len)[:, np.newaxis, :, :]\n",
    "    \n",
    "    decoder_block = DecoderBlock(d_model, num_heads, d_ff)\n",
    "    out, attn = decoder_block.forward(x, mask)\n",
    "    \n",
    "    print(\"Output shape:\", out.shape)\n",
    "    print(\"Attention weights shape:\", attn.shape)"
   ]
  },
  {
   "cell_type": "markdown",
   "id": "001a2646",
   "metadata": {},
   "source": [
    "## 8. Transformer Decoder & Output Layer"
   ]
  },
  {
   "cell_type": "code",
   "execution_count": 14,
   "id": "f73985ed",
   "metadata": {},
   "outputs": [],
   "source": [
    "class TransformerDecoder:\n",
    "    def __init__(self, vocab_size, d_model, num_heads, d_ff, num_layers, max_len=512):\n",
    "        \"\"\"\n",
    "        Decoder-only Transformer.\n",
    "        Args:\n",
    "            vocab_size: ukuran kosakata\n",
    "            d_model: dimensi embedding\n",
    "            num_heads: jumlah head attention\n",
    "            d_ff: dimensi hidden layer feed-forward\n",
    "            num_layers: jumlah decoder block\n",
    "            max_len: panjang maksimum sequence\n",
    "        \"\"\"\n",
    "        self.vocab_size = vocab_size\n",
    "        self.d_model = d_model\n",
    "        \n",
    "        # Komponen utama\n",
    "        self.token_embedding = TokenEmbedding(vocab_size, d_model)\n",
    "        self.positional_encoding = PositionalEncoding(d_model, max_len)\n",
    "        \n",
    "        # Stack beberapa DecoderBlock\n",
    "        self.layers = [DecoderBlock(d_model, num_heads, d_ff) for _ in range(num_layers)]\n",
    "        \n",
    "        # Output layer: proyeksi ke ukuran vocab\n",
    "        self.W_out = np.random.randn(d_model, vocab_size) / np.sqrt(d_model)\n",
    "        self.b_out = np.zeros((vocab_size,))\n",
    "    \n",
    "    def forward(self, x):\n",
    "        \"\"\"\n",
    "        Forward pass.\n",
    "        Args:\n",
    "            x: token IDs (batch, seq_len)\n",
    "        Returns:\n",
    "            logits: (batch, seq_len, vocab_size)\n",
    "            probs: softmax distribusi probabilitas (batch, seq_len, vocab_size)\n",
    "        \"\"\"\n",
    "        # Step 1: embedding\n",
    "        x = self.token_embedding.forward(x)\n",
    "        x = self.positional_encoding.forward(x)\n",
    "        \n",
    "        # Step 2: causal mask\n",
    "        seq_len = x.shape[1]\n",
    "        mask = causal_mask(seq_len)[:, np.newaxis, :, :]  # (1, 1, seq_len, seq_len)\n",
    "        \n",
    "        # Step 3: lewat semua decoder block\n",
    "        attn_weights_list = []\n",
    "        for layer in self.layers:\n",
    "            x, attn_weights = layer.forward(x, mask)\n",
    "            attn_weights_list.append(attn_weights)\n",
    "        \n",
    "        # Step 4: output layer (logits)\n",
    "        logits = np.matmul(x, self.W_out) + self.b_out\n",
    "        \n",
    "        # Step 5: distribusi softmax (prediksi token berikutnya)\n",
    "        probs = softmax(logits, axis=-1)\n",
    "        \n",
    "        return logits, probs, attn_weights_list"
   ]
  },
  {
   "cell_type": "code",
   "execution_count": 15,
   "id": "e14b57d2",
   "metadata": {},
   "outputs": [
    {
     "name": "stdout",
     "output_type": "stream",
     "text": [
      "Input shape: (2, 5)\n",
      "Logits shape: (2, 5, 1000)\n",
      "Probs shape: (2, 5, 1000)\n",
      "Sum of probs (should be 1.0): 1.0\n"
     ]
    }
   ],
   "source": [
    "# Tes Transformer Decoder\n",
    "if __name__ == \"__main__\":\n",
    "    vocab_size = 1000\n",
    "    d_model = 64\n",
    "    num_heads = 4\n",
    "    d_ff = 256\n",
    "    num_layers = 2\n",
    "    seq_len = 5\n",
    "    batch = 2\n",
    "\n",
    "    dummy_input = np.random.randint(0, vocab_size, (batch, seq_len))\n",
    "    \n",
    "    model = TransformerDecoder(vocab_size, d_model, num_heads, d_ff, num_layers)\n",
    "    logits, probs, attn_list = model.forward(dummy_input)\n",
    "    \n",
    "    print(\"Input shape:\", dummy_input.shape)\n",
    "    print(\"Logits shape:\", logits.shape)\n",
    "    print(\"Probs shape:\", probs.shape)\n",
    "    print(\"Sum of probs (should be 1.0):\", np.sum(probs[0, -1]))"
   ]
  },
  {
   "cell_type": "markdown",
   "id": "3982727a",
   "metadata": {},
   "source": [
    "## 9. Testing & Demo Output"
   ]
  },
  {
   "cell_type": "code",
   "execution_count": 16,
   "id": "55794a9f",
   "metadata": {},
   "outputs": [
    {
     "name": "stdout",
     "output_type": "stream",
     "text": [
      "Dummy Input IDs:\n",
      " [[103 359  10 248 254 321]\n",
      " [334 207 155  85 426 323]]\n",
      "\n",
      "=== Output Shapes ===\n",
      "Logits shape: (2, 6, 500)\n",
      "Probs shape: (2, 6, 500)\n",
      "Sum of softmax for sample 0: 1.000000\n",
      "Sum of softmax for sample 1: 1.000000\n",
      "\n",
      "Predicted next token IDs: [242 427]\n"
     ]
    },
    {
     "data": {
      "image/png": "[encoded data removed]",
      "text/plain": [
       "<Figure size 600x500 with 2 Axes>"
      ]
     },
     "metadata": {},
     "output_type": "display_data"
    }
   ],
   "source": [
    "import matplotlib.pyplot as plt\n",
    "\n",
    "# 🔧 Parameter model\n",
    "vocab_size = 500\n",
    "d_model = 64\n",
    "num_heads = 4\n",
    "d_ff = 256\n",
    "num_layers = 2\n",
    "seq_len = 6\n",
    "batch_size = 2\n",
    "\n",
    "# Buat input dummy (token ID random)\n",
    "dummy_input = np.random.randint(0, vocab_size, (batch_size, seq_len))\n",
    "print(\"Dummy Input IDs:\\n\", dummy_input)\n",
    "\n",
    "# Inisialisasi model\n",
    "model = TransformerDecoder(vocab_size, d_model, num_heads, d_ff, num_layers)\n",
    "\n",
    "# Forward pass\n",
    "logits, probs, attn_list = model.forward(dummy_input)\n",
    "\n",
    "# Cek dimensi output\n",
    "print(\"\\n=== Output Shapes ===\")\n",
    "print(\"Logits shape:\", logits.shape)   # (batch, seq_len, vocab_size)\n",
    "print(\"Probs shape:\", probs.shape)     # (batch, seq_len, vocab_size)\n",
    "\n",
    "# Cek apakah softmax valid\n",
    "for i in range(batch_size):\n",
    "    s = np.sum(probs[i, -1])\n",
    "    print(f\"Sum of softmax for sample {i}: {s:.6f}\")\n",
    "\n",
    "# Prediksi token berikutnya (berdasarkan token terakhir)\n",
    "pred_next = np.argmax(probs[:, -1, :], axis=-1)\n",
    "print(\"\\nPredicted next token IDs:\", pred_next)\n",
    "\n",
    "# Visualisasi Attention (head pertama)\n",
    "attn_weights = attn_list[-1][0, 0]  # ambil batch=0, head=0 dari layer terakhir\n",
    "\n",
    "plt.figure(figsize=(6, 5))\n",
    "plt.imshow(attn_weights, cmap=\"Blues\")\n",
    "plt.title(\"Attention Weights (Layer Last, Head 0)\")\n",
    "plt.xlabel(\"Key positions\")\n",
    "plt.ylabel(\"Query positions\")\n",
    "plt.colorbar(label=\"Attention Weight\")\n",
    "plt.show()"
   ]
  }
 ],
 "metadata": {
  "kernelspec": {
   "display_name": "Python 3",
   "language": "python",
   "name": "python3"
  },
  "language_info": {
   "codemirror_mode": {
    "name": "ipython",
    "version": 3
   },
   "file_extension": ".py",
   "mimetype": "text/x-python",
   "name": "python",
   "nbconvert_exporter": "python",
   "pygments_lexer": "ipython3",
   "version": "3.12.6"
  }
 },
 "nbformat": 4,
 "nbformat_minor": 5
}
